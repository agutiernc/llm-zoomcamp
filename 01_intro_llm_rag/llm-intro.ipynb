{
 "cells": [
  {
   "cell_type": "code",
   "execution_count": 1,
   "id": "e4f7777d-cbbf-445f-bf69-9181977184ac",
   "metadata": {},
   "outputs": [],
   "source": [
    "import anthropic"
   ]
  },
  {
   "cell_type": "code",
   "execution_count": 2,
   "id": "5b9eb3e8-ddc7-4b82-b162-f85e37f05631",
   "metadata": {},
   "outputs": [],
   "source": [
    "import os"
   ]
  },
  {
   "cell_type": "code",
   "execution_count": 3,
   "id": "f9e81507-2ff7-49a1-8a6a-fbe2a4fff0af",
   "metadata": {},
   "outputs": [],
   "source": [
    "client = anthropic.Anthropic()"
   ]
  },
  {
   "cell_type": "code",
   "execution_count": 4,
   "id": "1ef754f8-df86-4066-a804-ae33a7e487e5",
   "metadata": {},
   "outputs": [],
   "source": [
    "message = client.messages.create(\n",
    "    model=\"claude-3-5-sonnet-20240620\",\n",
    "    max_tokens=1024,\n",
    "    messages=[\n",
    "        {\"role\": \"user\", \"content\": \"Hello, Claude. When is the next leap year?\"}\n",
    "    ]\n",
    ")"
   ]
  },
  {
   "cell_type": "code",
   "execution_count": 5,
   "id": "4f76c990-7ea7-4f92-b854-988595532145",
   "metadata": {},
   "outputs": [
    {
     "name": "stdout",
     "output_type": "stream",
     "text": [
      "[TextBlock(text=\"The next leap year will be 2024.\\n\\nLeap years typically occur every four years, with some exceptions to keep our calendar aligned with the Earth's orbit around the sun. The basic rules for determining a leap year are:\\n\\n1. A year is a leap year if it's divisible by 4\\n2. However, if the year is also divisible by 100, it's not a leap year\\n3. Unless the year is also divisible by 400, in which case it is a leap year\\n\\nFollowing these rules, the years 2024, 2028, 2032, and 2036 will all be leap years. The year 2100 will not be a leap year because it's divisible by 100 but not by 400.\", type='text')]\n"
     ]
    }
   ],
   "source": [
    "print(message.content)"
   ]
  }
 ],
 "metadata": {
  "kernelspec": {
   "display_name": "Python 3 (ipykernel)",
   "language": "python",
   "name": "python3"
  },
  "language_info": {
   "codemirror_mode": {
    "name": "ipython",
    "version": 3
   },
   "file_extension": ".py",
   "mimetype": "text/x-python",
   "name": "python",
   "nbconvert_exporter": "python",
   "pygments_lexer": "ipython3",
   "version": "3.10.14"
  }
 },
 "nbformat": 4,
 "nbformat_minor": 5
}
