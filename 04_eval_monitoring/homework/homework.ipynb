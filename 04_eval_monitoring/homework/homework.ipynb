{
 "cells": [
  {
   "cell_type": "code",
   "execution_count": 1,
   "id": "febd85f7-2f3e-4626-bb8d-7ba2d0606925",
   "metadata": {},
   "outputs": [],
   "source": [
    "import pandas as pd"
   ]
  },
  {
   "cell_type": "code",
   "execution_count": 2,
   "id": "af81f31d-027f-48af-a02a-78ce008be823",
   "metadata": {},
   "outputs": [],
   "source": [
    "df_results_gpt_4o_mini = pd.read_csv('../results-gpt4o-mini.csv')"
   ]
  },
  {
   "cell_type": "code",
   "execution_count": 3,
   "id": "07c2cb93-4c59-4d1b-9185-d7e775b4fb01",
   "metadata": {},
   "outputs": [],
   "source": [
    "df_results = df_results_gpt_4o_mini[:300]"
   ]
  },
  {
   "cell_type": "code",
   "execution_count": 4,
   "id": "08be7a78-e6d5-43ba-a397-b36627dd910d",
   "metadata": {},
   "outputs": [],
   "source": [
    "from tqdm.auto import tqdm\n",
    "from sentence_transformers import SentenceTransformer"
   ]
  },
  {
   "cell_type": "code",
   "execution_count": 5,
   "id": "96b1aa70-681c-43df-8cb4-7ee0d676d66e",
   "metadata": {},
   "outputs": [],
   "source": [
    "model_name = 'multi-qa-mpnet-base-dot-v1'\n",
    "model = SentenceTransformer(model_name)"
   ]
  },
  {
   "cell_type": "code",
   "execution_count": 6,
   "id": "95913aa3-1ad7-4696-a297-8bfe5c22daa7",
   "metadata": {},
   "outputs": [],
   "source": [
    "answer_llm = df_results.iloc[0].answer_llm"
   ]
  },
  {
   "cell_type": "code",
   "execution_count": 7,
   "id": "62ec174f-bc5a-4a33-bf16-b75a8c3792fc",
   "metadata": {},
   "outputs": [
    {
     "data": {
      "text/plain": [
       "'You can sign up for the course by visiting the course page at [http://mlzoomcamp.com/](http://mlzoomcamp.com/).'"
      ]
     },
     "execution_count": 7,
     "metadata": {},
     "output_type": "execute_result"
    }
   ],
   "source": [
    "answer_llm"
   ]
  },
  {
   "cell_type": "code",
   "execution_count": 8,
   "id": "7029be53-e8d7-45b6-8321-a0189881738a",
   "metadata": {},
   "outputs": [],
   "source": [
    "v = model.encode(answer_llm)"
   ]
  },
  {
   "cell_type": "code",
   "execution_count": 9,
   "id": "043419e4-7853-4bf2-ba8e-bf694c4e76fd",
   "metadata": {},
   "outputs": [
    {
     "data": {
      "text/plain": [
       "-0.42244658"
      ]
     },
     "execution_count": 9,
     "metadata": {},
     "output_type": "execute_result"
    }
   ],
   "source": [
    "v[0]"
   ]
  },
  {
   "cell_type": "code",
   "execution_count": 10,
   "id": "9e98d97b-c250-466a-88e6-648dcc7da370",
   "metadata": {},
   "outputs": [],
   "source": [
    "import numpy as np"
   ]
  },
  {
   "cell_type": "code",
   "execution_count": 11,
   "id": "aa0ebc14-bd49-4c0b-96f5-75fa649a7ab5",
   "metadata": {},
   "outputs": [],
   "source": [
    "evaluations = []\n",
    "\n",
    "for _, row in df_results.iterrows():\n",
    "    answer_llm_embedding = model.encode(row.answer_llm)\n",
    "    answer_orig_embedding = model.encode(row.answer_orig)\n",
    "\n",
    "    results = np.dot(answer_llm_embedding, answer_orig_embedding)\n",
    "\n",
    "    evaluations.append(results)"
   ]
  },
  {
   "cell_type": "code",
   "execution_count": 12,
   "id": "8236a18c-1cc9-44c7-a503-0e92262d86e8",
   "metadata": {},
   "outputs": [],
   "source": [
    "percentile_75 = np.percentile(evaluations, 75)"
   ]
  },
  {
   "cell_type": "code",
   "execution_count": 13,
   "id": "c1ebd3bd-8b1b-4c74-9a68-096fdb313e23",
   "metadata": {},
   "outputs": [
    {
     "data": {
      "text/plain": [
       "31.67430353164673"
      ]
     },
     "execution_count": 13,
     "metadata": {},
     "output_type": "execute_result"
    }
   ],
   "source": [
    "percentile_75"
   ]
  },
  {
   "cell_type": "code",
   "execution_count": 15,
   "id": "1f0fcd03-2bf6-4a55-8acb-a3d5000c9b2e",
   "metadata": {},
   "outputs": [],
   "source": [
    "def normalize_vector(v):\n",
    "    norm = np.sqrt((v * v).sum())\n",
    "    v_norm = v / norm\n",
    "\n",
    "    return v_norm"
   ]
  },
  {
   "cell_type": "code",
   "execution_count": 16,
   "id": "f90b0008-8582-4d9f-a8a0-d84f0ad4539e",
   "metadata": {},
   "outputs": [],
   "source": [
    "evaluations = []\n",
    "\n",
    "for _, row in df_results.iterrows():\n",
    "    answer_llm_embedding = model.encode(row.answer_llm)\n",
    "    answer_orig_embedding = model.encode(row.answer_orig)\n",
    "\n",
    "    answer_llm_embedding_norm = normalize_vector(answer_llm_embedding)\n",
    "    answer_orig_embedding_norm = normalize_vector(answer_orig_embedding)\n",
    "\n",
    "    cosine_similarity = np.dot(answer_llm_embedding_norm, answer_orig_embedding_norm)\n",
    "\n",
    "    evaluations.append(cosine_similarity)"
   ]
  },
  {
   "cell_type": "code",
   "execution_count": 17,
   "id": "74960ece-ceb3-4f65-bd06-08f9d10abd1a",
   "metadata": {},
   "outputs": [],
   "source": [
    "percentile_75 = np.percentile(evaluations, 75)"
   ]
  },
  {
   "cell_type": "code",
   "execution_count": 18,
   "id": "e29adf78-a4ad-47f7-874b-ae086dea4302",
   "metadata": {},
   "outputs": [
    {
     "data": {
      "text/plain": [
       "0.8362347632646561"
      ]
     },
     "execution_count": 18,
     "metadata": {},
     "output_type": "execute_result"
    }
   ],
   "source": [
    "percentile_75"
   ]
  },
  {
   "cell_type": "code",
   "execution_count": 19,
   "id": "120a6f1f-1205-4aef-8145-ee5b911d3857",
   "metadata": {},
   "outputs": [
    {
     "name": "stderr",
     "output_type": "stream",
     "text": [
      "huggingface/tokenizers: The current process just got forked, after parallelism has already been used. Disabling parallelism to avoid deadlocks...\n",
      "To disable this warning, you can either:\n",
      "\t- Avoid using `tokenizers` before the fork if possible\n",
      "\t- Explicitly set the environment variable TOKENIZERS_PARALLELISM=(true | false)\n"
     ]
    },
    {
     "name": "stdout",
     "output_type": "stream",
     "text": [
      "Collecting rouge\n",
      "  Downloading rouge-1.0.1-py3-none-any.whl.metadata (4.1 kB)\n",
      "Requirement already satisfied: six in /opt/homebrew/Caskroom/miniconda/base/envs/venv/lib/python3.12/site-packages (from rouge) (1.16.0)\n",
      "Downloading rouge-1.0.1-py3-none-any.whl (13 kB)\n",
      "Installing collected packages: rouge\n",
      "Successfully installed rouge-1.0.1\n"
     ]
    }
   ],
   "source": [
    "!pip install rouge"
   ]
  },
  {
   "cell_type": "code",
   "execution_count": 20,
   "id": "1f0ebe14-1c35-4b58-a773-d1957e2afb5b",
   "metadata": {},
   "outputs": [],
   "source": [
    "from rouge import Rouge"
   ]
  },
  {
   "cell_type": "code",
   "execution_count": 21,
   "id": "96ebe230-529c-428a-9fb2-7838edcd2a26",
   "metadata": {},
   "outputs": [
    {
     "data": {
      "text/plain": [
       "<rouge.rouge.Rouge at 0x3cee1f3b0>"
      ]
     },
     "execution_count": 21,
     "metadata": {},
     "output_type": "execute_result"
    }
   ],
   "source": [
    "rouge_scorer = Rouge()\n",
    "\n",
    "rouge_scorer"
   ]
  },
  {
   "cell_type": "code",
   "execution_count": 32,
   "id": "8ebc12a8-4cd5-47d8-a55b-5458d60f6aaf",
   "metadata": {},
   "outputs": [],
   "source": [
    "r = df_results.iloc[10]"
   ]
  },
  {
   "cell_type": "code",
   "execution_count": 33,
   "id": "c1523c35-c25b-4ffa-94f7-ed102b7caa32",
   "metadata": {},
   "outputs": [
    {
     "data": {
      "text/plain": [
       "answer_llm     Yes, all sessions are recorded, so if you miss...\n",
       "answer_orig    Everything is recorded, so you won’t miss anyt...\n",
       "document                                                5170565b\n",
       "question                    Are sessions recorded if I miss one?\n",
       "course                                 machine-learning-zoomcamp\n",
       "Name: 10, dtype: object"
      ]
     },
     "execution_count": 33,
     "metadata": {},
     "output_type": "execute_result"
    }
   ],
   "source": [
    "r"
   ]
  },
  {
   "cell_type": "code",
   "execution_count": 34,
   "id": "65246a38-d1a3-49b7-a84b-797ea4a9acf6",
   "metadata": {},
   "outputs": [],
   "source": [
    "scores = rouge_scorer.get_scores(r['answer_llm'], r['answer_orig'])[0]"
   ]
  },
  {
   "cell_type": "code",
   "execution_count": 35,
   "id": "8621e8b3-2488-44f9-9621-f1443690e0e0",
   "metadata": {},
   "outputs": [
    {
     "data": {
      "text/plain": [
       "{'rouge-1': {'r': 0.45454545454545453,\n",
       "  'p': 0.45454545454545453,\n",
       "  'f': 0.45454544954545456},\n",
       " 'rouge-2': {'r': 0.21621621621621623,\n",
       "  'p': 0.21621621621621623,\n",
       "  'f': 0.21621621121621637},\n",
       " 'rouge-l': {'r': 0.3939393939393939,\n",
       "  'p': 0.3939393939393939,\n",
       "  'f': 0.393939388939394}}"
      ]
     },
     "execution_count": 35,
     "metadata": {},
     "output_type": "execute_result"
    }
   ],
   "source": [
    "scores"
   ]
  },
  {
   "cell_type": "code",
   "execution_count": 36,
   "id": "70ca7aa5-1c2e-48d4-b2a1-0eb0b9628670",
   "metadata": {},
   "outputs": [],
   "source": [
    "f_score_rouge_1 = scores['rouge-1']['f']"
   ]
  },
  {
   "cell_type": "code",
   "execution_count": 37,
   "id": "8b5e6c2c-1573-452f-929c-12f856721dfc",
   "metadata": {},
   "outputs": [
    {
     "data": {
      "text/plain": [
       "0.45454544954545456"
      ]
     },
     "execution_count": 37,
     "metadata": {},
     "output_type": "execute_result"
    }
   ],
   "source": [
    "f_score_rouge_1"
   ]
  },
  {
   "cell_type": "code",
   "execution_count": 42,
   "id": "11b2341b-8a0b-4cda-be4c-64a95796f040",
   "metadata": {},
   "outputs": [],
   "source": [
    "rouge_1 = scores['rouge-1']['f']\n",
    "rouge_2 = scores['rouge-2']['f']\n",
    "rouge_l = scores['rouge-l']['f']"
   ]
  },
  {
   "cell_type": "code",
   "execution_count": 43,
   "id": "7a5f1063-9dc8-4ce9-8f54-9b15752200cc",
   "metadata": {},
   "outputs": [],
   "source": [
    "rouge_avg = (rouge_1 + rouge_2 + rouge_l) / 3"
   ]
  },
  {
   "cell_type": "code",
   "execution_count": 44,
   "id": "569458ec-f8b8-4296-b489-1bcbd670aa73",
   "metadata": {},
   "outputs": [
    {
     "data": {
      "text/plain": [
       "0.35490034990035496"
      ]
     },
     "execution_count": 44,
     "metadata": {},
     "output_type": "execute_result"
    }
   ],
   "source": [
    "rouge_avg"
   ]
  },
  {
   "cell_type": "code",
   "execution_count": 46,
   "id": "9c8a337d-351b-4dca-96dd-40bf857b470f",
   "metadata": {},
   "outputs": [],
   "source": [
    "rouge_1_scores = []\n",
    "rouge_2_scores = []\n",
    "rouge_l_scores = []\n",
    "rouge_avg_scores = []\n",
    "\n",
    "for _, row in df_results.iterrows():\n",
    "    scores = rouge_scorer.get_scores(row['answer_llm'], row['answer_orig'])[0]\n",
    "    \n",
    "    rouge_1 = scores['rouge-1']['f']\n",
    "    rouge_2 = scores['rouge-2']['f']\n",
    "    rouge_l = scores['rouge-l']['f']\n",
    "    \n",
    "    rouge_avg = (rouge_1 + rouge_2 + rouge_l) / 3\n",
    "    \n",
    "    rouge_1_scores.append(rouge_1)\n",
    "    rouge_2_scores.append(rouge_2)\n",
    "    rouge_l_scores.append(rouge_l)\n",
    "    rouge_avg_scores.append(rouge_avg)"
   ]
  },
  {
   "cell_type": "code",
   "execution_count": 48,
   "id": "da551a49-a122-40ad-be27-853e2542af63",
   "metadata": {},
   "outputs": [],
   "source": [
    "df_rouge_scores = pd.DataFrame({\n",
    "    'rouge_1': rouge_1_scores,\n",
    "    'rouge_2': rouge_2_scores,\n",
    "    'rouge_l': rouge_l_scores,\n",
    "    'rouge_avg': rouge_avg_scores\n",
    "})"
   ]
  },
  {
   "cell_type": "code",
   "execution_count": 52,
   "id": "3082ad20-63b9-47dd-a5db-ce0d948ef60f",
   "metadata": {},
   "outputs": [],
   "source": [
    "avg_rouge_2 = df_rouge_scores['rouge_2'].mean()"
   ]
  },
  {
   "cell_type": "code",
   "execution_count": 53,
   "id": "7d83d9d5-2f9b-45da-8522-718e39abddd1",
   "metadata": {},
   "outputs": [
    {
     "data": {
      "text/plain": [
       "0.20696501983423318"
      ]
     },
     "execution_count": 53,
     "metadata": {},
     "output_type": "execute_result"
    }
   ],
   "source": [
    "avg_rouge_2"
   ]
  },
  {
   "cell_type": "code",
   "execution_count": null,
   "id": "dae204ce-93a1-4e5e-a676-0f494ef6e0c3",
   "metadata": {},
   "outputs": [],
   "source": []
  }
 ],
 "metadata": {
  "kernelspec": {
   "display_name": "Python 3 (ipykernel)",
   "language": "python",
   "name": "python3"
  },
  "language_info": {
   "codemirror_mode": {
    "name": "ipython",
    "version": 3
   },
   "file_extension": ".py",
   "mimetype": "text/x-python",
   "name": "python",
   "nbconvert_exporter": "python",
   "pygments_lexer": "ipython3",
   "version": "3.12.4"
  }
 },
 "nbformat": 4,
 "nbformat_minor": 5
}
